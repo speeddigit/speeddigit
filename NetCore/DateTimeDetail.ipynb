{
 "cells": [
  {
   "cell_type": "code",
   "execution_count": null,
   "metadata": {
    "dotnet_interactive": {
     "language": "csharp"
    },
    "vscode": {
     "languageId": "dotnet-interactive.csharp"
    }
   },
   "outputs": [],
   "source": [
    "using static System.Console;"
   ]
  },
  {
   "cell_type": "code",
   "execution_count": null,
   "metadata": {
    "dotnet_interactive": {
     "language": "csharp"
    },
    "vscode": {
     "languageId": "dotnet-interactive.csharp"
    }
   },
   "outputs": [
    {
     "name": "stdout",
     "output_type": "stream",
     "text": [
      "12/31/2019 11:59:54 PM\r\n",
      "31 31 Tue Tuesday\r\n",
      "12 12 Dec December\r\n",
      "19 19 2019 2019\r\n",
      "11 11 11 11\r\n",
      "23 23 23 23\r\n",
      "59 59 59 59\r\n",
      "54 54 54 54\r\n",
      "31-12-2019 23:59:54 PM +06\r\n"
     ]
    }
   ],
   "source": [
    "DateTime dt = new DateTime(2019, 12, 31, 23, 59, 54);\n",
    "\n",
    "WriteLine(dt.ToString());\n",
    "WriteLine(dt.ToString(\"d dd ddd dddd\"));\n",
    "WriteLine(dt.ToString(\"M MM MMM MMMM\"));\n",
    "WriteLine(dt.ToString(\"y yy yyy yyyy\"));\n",
    "WriteLine(dt.ToString(\"h hh hhh hhhh\"));\n",
    "WriteLine(dt.ToString(\"H HH HHH HHHH\"));\n",
    "WriteLine(dt.ToString(\"m mm mmm mmmm\"));\n",
    "WriteLine(dt.ToString(\"s ss sss ssss\"));\n",
    "\n",
    "\n",
    "WriteLine(dt.ToString(\"dd-MM-yyyy HH:mm:ss tt zz\"));\n"
   ]
  },
  {
   "cell_type": "code",
   "execution_count": null,
   "metadata": {
    "dotnet_interactive": {
     "language": "csharp"
    },
    "vscode": {
     "languageId": "dotnet-interactive.csharp"
    }
   },
   "outputs": [
    {
     "name": "stdout",
     "output_type": "stream",
     "text": [
      "12/31/2019\r\n",
      "Tuesday, December 31, 2019\r\n",
      "11:59 PM\r\n",
      "11:59:54 PM\r\n",
      "Tuesday, December 31, 2019 11:59 PM\r\n",
      "Tuesday, December 31, 2019 11:59:54 PM\r\n",
      "December 2019\r\n",
      "December 2019\r\n",
      "12/31/2019\r\n"
     ]
    }
   ],
   "source": [
    "WriteLine(dt.ToString(\"d\"));\n",
    "WriteLine(dt.ToString(\"D\"));\n",
    "WriteLine(dt.ToString(\"t\"));\n",
    "WriteLine(dt.ToString(\"T\"));\n",
    "\n",
    "WriteLine(dt.ToString(\"f\"));\n",
    "WriteLine(dt.ToString(\"F\"));\n",
    "WriteLine(dt.ToString(\"y\"));\n",
    "WriteLine(dt.ToString(\"Y\"));\n",
    "\n",
    "\n",
    "WriteLine(string.Format(\"{0:d}\", dt));"
   ]
  },
  {
   "cell_type": "code",
   "execution_count": null,
   "metadata": {
    "dotnet_interactive": {
     "language": "csharp"
    },
    "vscode": {
     "languageId": "dotnet-interactive.csharp"
    }
   },
   "outputs": [
    {
     "name": "stdout",
     "output_type": "stream",
     "text": [
      "Sunday, April 10, 2022 2:10 AM\r\n",
      "Monday, April 11, 2022 2:10 AM\r\n",
      "Saturday, April 9, 2022 2:10 AM\r\n"
     ]
    }
   ],
   "source": [
    "DateTime dt = DateTime.Now;\n",
    "\n",
    "WriteLine(dt.ToString(\"f\"));\n",
    "\n",
    "dt = dt.AddDays(1);\n",
    "WriteLine(dt.ToString(\"f\"));\n",
    "\n",
    "dt = dt.AddDays(-2);\n",
    "WriteLine(dt.ToString(\"f\"));\n"
   ]
  },
  {
   "cell_type": "code",
   "execution_count": null,
   "metadata": {
    "dotnet_interactive": {
     "language": "csharp"
    },
    "vscode": {
     "languageId": "dotnet-interactive.csharp"
    }
   },
   "outputs": [
    {
     "name": "stdout",
     "output_type": "stream",
     "text": [
      "Friday, April 9, 2027 3:10:07 AM\r\n"
     ]
    }
   ],
   "source": [
    "dt = dt.AddYears(5);\n",
    "var res = dt.AddHours(1);\n",
    "\n",
    "WriteLine(res.ToString(\"F\"));"
   ]
  }
 ],
 "metadata": {
  "kernelspec": {
   "display_name": ".NET (C#)",
   "language": "C#",
   "name": ".net-csharp"
  },
  "language_info": {
   "name": "C#"
  }
 },
 "nbformat": 4,
 "nbformat_minor": 2
}
