{
 "cells": [
  {
   "cell_type": "code",
   "execution_count": null,
   "metadata": {
    "dotnet_interactive": {
     "language": "csharp"
    },
    "vscode": {
     "languageId": "dotnet-interactive.csharp"
    }
   },
   "outputs": [],
   "source": [
    "void print<T> (T str) { Console.WriteLine(str);}"
   ]
  },
  {
   "cell_type": "code",
   "execution_count": null,
   "metadata": {
    "dotnet_interactive": {
     "language": "csharp"
    },
    "vscode": {
     "languageId": "dotnet-interactive.csharp"
    }
   },
   "outputs": [
    {
     "name": "stdout",
     "output_type": "stream",
     "text": [
      "System.Int32\r\n",
      "System.Decimal\r\n"
     ]
    }
   ],
   "source": [
    "print(typeof(int));\n",
    "print(typeof(decimal));"
   ]
  },
  {
   "cell_type": "code",
   "execution_count": null,
   "metadata": {
    "dotnet_interactive": {
     "language": "csharp"
    },
    "vscode": {
     "languageId": "dotnet-interactive.csharp"
    }
   },
   "outputs": [
    {
     "name": "stdout",
     "output_type": "stream",
     "text": [
      "False\r\n",
      "True\r\n",
      "True\r\n"
     ]
    }
   ],
   "source": [
    "public class Animal {}\n",
    "public class Dog : Animal {}\n",
    "var animal = new Dog();\n",
    "print(animal.GetType() == typeof(Animal)); // fail, animal is typeof(Dog)\n",
    "print(animal.GetType() == typeof(Dog)); // pass, animal is typeof(Dog)\n",
    "print(animal is Animal); "
   ]
  },
  {
   "cell_type": "code",
   "execution_count": null,
   "metadata": {
    "dotnet_interactive": {
     "language": "csharp"
    },
    "vscode": {
     "languageId": "dotnet-interactive.csharp"
    }
   },
   "outputs": [
    {
     "name": "stdout",
     "output_type": "stream",
     "text": [
      "Second value is u\r\n",
      "Like array n\r\n"
     ]
    }
   ],
   "source": [
    "var name = \"Sunwarul Islam\".ToCharArray();\n",
    "char ch1 = name[1];\n",
    "print($\"Second value is {ch1}\");\n",
    "print($\"Like array \" + name[2])"
   ]
  },
  {
   "cell_type": "code",
   "execution_count": null,
   "metadata": {
    "dotnet_interactive": {
     "language": "csharp"
    },
    "vscode": {
     "languageId": "dotnet-interactive.csharp"
    }
   },
   "outputs": [
    {
     "name": "stdout",
     "output_type": "stream",
     "text": [
      "True\r\n",
      "True\r\n",
      "False\r\n",
      "True\r\n"
     ]
    }
   ],
   "source": [
    "// Equality 1. Value equality 2. Reference equality\n",
    "print(\"hello\" == \"hello\"); // string type object checks value equality though \n",
    "string a = \"hello\";\n",
    "string b = string.Copy(a);\n",
    "string c = \"hello\";\n",
    "\n",
    "print(a == b);\n",
    "print((object) a == (object) b); // Because a is a constant but b is a instance\n",
    "print((object) a == (object) c); // Both constants have same value, so string interning points to the same object. Returns true"
   ]
  }
 ],
 "metadata": {
  "kernelspec": {
   "display_name": ".NET (C#)",
   "language": "C#",
   "name": ".net-csharp"
  },
  "language_info": {
   "name": "C#"
  }
 },
 "nbformat": 4,
 "nbformat_minor": 2
}
