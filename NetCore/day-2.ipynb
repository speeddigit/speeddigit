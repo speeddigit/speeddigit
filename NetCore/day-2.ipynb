{
 "cells": [
  {
   "cell_type": "code",
   "execution_count": null,
   "metadata": {
    "dotnet_interactive": {
     "language": "csharp"
    },
    "vscode": {
     "languageId": "dotnet-interactive.csharp"
    }
   },
   "outputs": [],
   "source": [
    "void print<T> (T str) { Console.WriteLine(str);}"
   ]
  },
  {
   "cell_type": "code",
   "execution_count": null,
   "metadata": {
    "dotnet_interactive": {
     "language": "csharp"
    },
    "vscode": {
     "languageId": "dotnet-interactive.csharp"
    }
   },
   "outputs": [
    {
     "name": "stdout",
     "output_type": "stream",
     "text": [
      "HELLO\r\n",
      "FALSE\r\n",
      "\r\n"
     ]
    }
   ],
   "source": [
    "// Null coditional operator ?.\n",
    "// It is used to access a property or method of an object without having to check for null before calling it.\n",
    "\n",
    "class Foo \n",
    "{\n",
    "    public static object GetBaz(object obj)  => obj;\n",
    "}\n",
    "\n",
    "print(Foo.GetBaz(\"Hello\").ToString().ToUpper());\n",
    "print(Foo.GetBaz(false).ToString().ToUpper());\n",
    "print(Foo.GetBaz(null)?.ToString().ToUpper());\n",
    "// print(Foo.GetBaz(null).ToString().ToUpper()); // Raise NullReferenceException"
   ]
  },
  {
   "cell_type": "code",
   "execution_count": null,
   "metadata": {
    "dotnet_interactive": {
     "language": "csharp"
    },
    "vscode": {
     "languageId": "dotnet-interactive.csharp"
    }
   },
   "outputs": [
    {
     "name": "stdout",
     "output_type": "stream",
     "text": [
      "True\r\n",
      "True\r\n",
      "False\r\n",
      "False\r\n",
      "False\r\n",
      "True\r\n"
     ]
    }
   ],
   "source": [
    "// Exclusive or ^ (True, if only one true amongst given booleans)\n",
    "print(true ^ false);\n",
    "print(false ^ true);\n",
    "print(false ^ false);\n",
    "print(true ^ true);\n",
    "print(true ^ true);\n",
    "print(true ^ true ^ true); // Equals false ^ true = True"
   ]
  },
  {
   "cell_type": "code",
   "execution_count": null,
   "metadata": {
    "dotnet_interactive": {
     "language": "csharp"
    },
    "vscode": {
     "languageId": "dotnet-interactive.csharp"
    }
   },
   "outputs": [
    {
     "name": "stdout",
     "output_type": "stream",
     "text": [
      "0\r\n",
      "\u0000\r\n",
      "\r\n",
      "1/1/0001 12:00:00 AM\r\n",
      "00000000-0000-0000-0000-000000000000\r\n"
     ]
    }
   ],
   "source": [
    "// Default operator\n",
    "print(default(int));\n",
    "print(default(char)); // '\\0'\n",
    "print(default(string)); // null\n",
    "print(default(DateTime));\n",
    "print(default(Guid));"
   ]
  },
  {
   "cell_type": "code",
   "execution_count": null,
   "metadata": {
    "dotnet_interactive": {
     "language": "csharp"
    },
    "vscode": {
     "languageId": "dotnet-interactive.csharp"
    }
   },
   "outputs": [
    {
     "name": "stdout",
     "output_type": "stream",
     "text": [
      "1 byte\r\n",
      "1 byte\r\n",
      "1 byte\r\n",
      "2 byte\r\n",
      "2 byte\r\n",
      "2 byte\r\n",
      "4 byte\r\n",
      "4 byte\r\n",
      "4 byte\r\n",
      "8 byte\r\n",
      "8 byte\r\n",
      "16 byte\r\n"
     ]
    }
   ],
   "source": [
    "print(sizeof(bool) + \" byte\");\n",
    "print(sizeof(byte) + \" byte\");\n",
    "print(sizeof(sbyte) + \" byte\");\n",
    "print(sizeof(char) + \" byte\");\n",
    "print(sizeof(short) + \" byte\");\n",
    "print(sizeof(ushort) + \" byte\");\n",
    "print(sizeof(int) + \" byte\");\n",
    "print(sizeof(uint) + \" byte\");\n",
    "print(sizeof(float) + \" byte\");\n",
    "print(sizeof(long) + \" byte\");\n",
    "print(sizeof(double) + \" byte\");\n",
    "print(sizeof(decimal) + \" byte\");"
   ]
  },
  {
   "cell_type": "code",
   "execution_count": null,
   "metadata": {
    "dotnet_interactive": {
     "language": "csharp"
    },
    "vscode": {
     "languageId": "dotnet-interactive.csharp"
    }
   },
   "outputs": [
    {
     "name": "stdout",
     "output_type": "stream",
     "text": [
      "Not Null Value\r\n",
      "Right side\r\n"
     ]
    }
   ],
   "source": [
    "// Null coalescing operator ??\n",
    "print(\"Not Null Value\" ?? \"Right Side\");\n",
    "print(null ?? \"Right side\");"
   ]
  },
  {
   "cell_type": "code",
   "execution_count": null,
   "metadata": {
    "dotnet_interactive": {
     "language": "csharp"
    },
    "vscode": {
     "languageId": "dotnet-interactive.csharp"
    }
   },
   "outputs": [
    {
     "name": "stdout",
     "output_type": "stream",
     "text": [
      "30\r\n",
      "240\r\n",
      "120\r\n",
      "15\r\n",
      "4, 8, 16, 32\r\n",
      "100, 50, 25, 12\r\n"
     ]
    }
   ],
   "source": [
    "// Bit shifting operator \n",
    "\n",
    "// LEFT SHIFT\n",
    "uint value1 = 15; // 00001111\n",
    "print(value1 << 1); // 00011110 = 30\n",
    "print(value1 << 4); // 11110000 = 240\n",
    "\n",
    "// RIGHT SHIFT\n",
    "uint value2 = 240; // 11110000\n",
    "print(value2 >> 1); // 01111000 = 120\n",
    "print(value2 >> 4); // 00001111 = 15\n",
    "\n",
    "// Example\n",
    "print($\"{2 << 1}, {2 << 2}, {2 << 3}, {2 << 4}\");\n",
    "print($\"{200 >> 1}, {200 >> 2}, {200 >> 3}, {200 >> 4}\");"
   ]
  },
  {
   "cell_type": "code",
   "execution_count": null,
   "metadata": {
    "dotnet_interactive": {
     "language": "csharp"
    },
    "vscode": {
     "languageId": "dotnet-interactive.csharp"
    }
   },
   "outputs": [
    {
     "name": "stdout",
     "output_type": "stream",
     "text": [
      "3\r\n"
     ]
    }
   ],
   "source": [
    "string[] users = {\"John Doe\", \"Mr. John Doe\", \"Doe\"};\n",
    "int minWordLenght = users.Min(w => w.Length);\n",
    "print(minWordLenght);"
   ]
  },
  {
   "cell_type": "code",
   "execution_count": null,
   "metadata": {
    "dotnet_interactive": {
     "language": "csharp"
    },
    "vscode": {
     "languageId": "dotnet-interactive.csharp"
    }
   },
   "outputs": [
    {
     "name": "stdout",
     "output_type": "stream",
     "text": [
      "Hello lambda function\r\n",
      "Hello old\r\n"
     ]
    }
   ],
   "source": [
    "// Lambda function \n",
    "delegate void MyDelegate(string s);\n",
    "MyDelegate myDelegate = s => Console.WriteLine(s);\n",
    "myDelegate(\"Hello lambda function\");\n",
    "\n",
    "public void PrintFunction(string s) \n",
    "{\n",
    "    Console.WriteLine(s);\n",
    "}\n",
    "\n",
    "delegate void TestDelegate(string s);\n",
    "TestDelegate testDelegate = PrintFunction;\n",
    "testDelegate(\"Hello old\");"
   ]
  },
  {
   "cell_type": "code",
   "execution_count": null,
   "metadata": {
    "dotnet_interactive": {
     "language": "csharp"
    },
    "vscode": {
     "languageId": "dotnet-interactive.csharp"
    }
   },
   "outputs": [],
   "source": [
    "// Class Member Operators: Null Conditional Member Access\n",
    "\n",
    "// var zipcode = myEmployee?.Address?.ZipCode; \n",
    "// Equivalent to:\n",
    "// if(myEmployee != null && myEmployee.Address != null)\n",
    "// {\n",
    "//     var zipcode = myEmployee.Address.ZipCode;\n",
    "// }"
   ]
  },
  {
   "cell_type": "code",
   "execution_count": null,
   "metadata": {
    "dotnet_interactive": {
     "language": "csharp"
    },
    "vscode": {
     "languageId": "dotnet-interactive.csharp"
    }
   },
   "outputs": [
    {
     "name": "stdout",
     "output_type": "stream",
     "text": [
      "Second letter is e.\r\n"
     ]
    }
   ],
   "source": [
    "var letters = \"Hello my game\"; // = null\n",
    "char? letter = letters?[1];\n",
    "Console.WriteLine(\"Second letter is {0}.\", letter);"
   ]
  },
  {
   "cell_type": "code",
   "execution_count": null,
   "metadata": {
    "dotnet_interactive": {
     "language": "csharp"
    },
    "vscode": {
     "languageId": "dotnet-interactive.csharp"
    }
   },
   "outputs": [],
   "source": [
    "\n"
   ]
  }
 ],
 "metadata": {
  "kernelspec": {
   "display_name": ".NET (C#)",
   "language": "C#",
   "name": ".net-csharp"
  },
  "language_info": {
   "name": "C#"
  }
 },
 "nbformat": 4,
 "nbformat_minor": 2
}
