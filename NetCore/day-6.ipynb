{
 "cells": [
  {
   "cell_type": "code",
   "execution_count": null,
   "metadata": {
    "dotnet_interactive": {
     "language": "csharp"
    },
    "vscode": {
     "languageId": "dotnet-interactive.csharp"
    }
   },
   "outputs": [],
   "source": [
    "using static System.Console;"
   ]
  },
  {
   "cell_type": "code",
   "execution_count": null,
   "metadata": {
    "dotnet_interactive": {
     "language": "csharp"
    },
    "vscode": {
     "languageId": "dotnet-interactive.csharp"
    }
   },
   "outputs": [
    {
     "name": "stdout",
     "output_type": "stream",
     "text": [
      "|   Hello|\r\n",
      "|Hello   |\r\n"
     ]
    }
   ],
   "source": [
    "// Align left/right\n",
    "WriteLine(\"|{0, 8}|\", \"Hello\");\n",
    "WriteLine(\"|{0, -8}|\", \"Hello\");"
   ]
  },
  {
   "cell_type": "code",
   "execution_count": null,
   "metadata": {
    "dotnet_interactive": {
     "language": "csharp"
    },
    "vscode": {
     "languageId": "dotnet-interactive.csharp"
    }
   },
   "outputs": [
    {
     "name": "stdout",
     "output_type": "stream",
     "text": [
      "147,570.12\r\n"
     ]
    }
   ],
   "source": [
    "using System.Globalization;\n",
    "var invariantCulture = string.Format(CultureInfo.InvariantCulture, \"{0:#,###.##}\", 147570.123);\n",
    "WriteLine(invariantCulture);"
   ]
  },
  {
   "cell_type": "code",
   "execution_count": null,
   "metadata": {
    "dotnet_interactive": {
     "language": "csharp"
    },
    "vscode": {
     "languageId": "dotnet-interactive.csharp"
    }
   },
   "outputs": [
    {
     "name": "stdout",
     "output_type": "stream",
     "text": [
      "147,570.12\r\n"
     ]
    }
   ],
   "source": [
    "var customProvider = new NumberFormatInfo {\n",
    "    CurrencySymbol = \"$\",\n",
    "    CurrencyGroupSeparator = \",\",\n",
    "    CurrencyDecimalSeparator = \".\",\n",
    "    CurrencyDecimalDigits = 3\n",
    "};\n",
    "\n",
    "WriteLine(string.Format(customProvider, \"{0:#,#,###.##}\", 147570.123));"
   ]
  },
  {
   "cell_type": "code",
   "execution_count": null,
   "metadata": {
    "dotnet_interactive": {
     "language": "csharp"
    },
    "vscode": {
     "languageId": "dotnet-interactive.csharp"
    }
   },
   "outputs": [
    {
     "name": "stdout",
     "output_type": "stream",
     "text": [
      "12,345,678\r\n",
      "7b 007B 41\r\n",
      "01\r\n",
      "123.000\r\n",
      "12.00%\r\n"
     ]
    }
   ],
   "source": [
    "WriteLine(string.Format(\"{0:#,#}\", 12345678.123));\n",
    "WriteLine(string.Format(\"{0:x2} {0:X4} {1:x2}\", 123, (int) 'A'));\n",
    "WriteLine(string.Format(\"{0:00}\", 1));\n",
    "WriteLine(string.Format(\"{0:0.000}\", 123));\n",
    "WriteLine(string.Format(\"{0:0.00%}\", 0.12));"
   ]
  },
  {
   "cell_type": "code",
   "execution_count": null,
   "metadata": {
    "dotnet_interactive": {
     "language": "csharp"
    },
    "vscode": {
     "languageId": "dotnet-interactive.csharp"
    }
   },
   "outputs": [
    {
     "name": "stdout",
     "output_type": "stream",
     "text": [
      "1 John\r\n"
     ]
    }
   ],
   "source": [
    "class User\n",
    "{\n",
    "     public int Id { get; set; }\n",
    "     public string Name { get; set; }\n",
    "     public override string ToString()\n",
    "     {\n",
    "        return string.Format(\"{0} {1}\", Id, Name);\n",
    "     }\n",
    "}\n",
    "\n",
    "User user = new User { Id = 1, Name = \"John\" };\n",
    "WriteLine(user.ToString())"
   ]
  },
  {
   "cell_type": "code",
   "execution_count": null,
   "metadata": {
    "dotnet_interactive": {
     "language": "csharp"
    },
    "vscode": {
     "languageId": "dotnet-interactive.csharp"
    }
   },
   "outputs": [
    {
     "name": "stdout",
     "output_type": "stream",
     "text": [
      "{I am with single bracket}, John\r\n"
     ]
    }
   ],
   "source": [
    "string name  = \"John\";\n",
    "WriteLine(\"{{I am with single bracket}}, {0}\", name);"
   ]
  },
  {
   "cell_type": "code",
   "execution_count": null,
   "metadata": {
    "dotnet_interactive": {
     "language": "csharp"
    },
    "vscode": {
     "languageId": "dotnet-interactive.csharp"
    }
   },
   "outputs": [
    {
     "name": "stdout",
     "output_type": "stream",
     "text": [
      "$123.45\r\n",
      "$123.45\r\n",
      "|   $123.45|\r\n",
      "|   $123.45|\r\n"
     ]
    }
   ],
   "source": [
    "decimal money = 123.45m;\n",
    "WriteLine(\"{0:C}\", money);\n",
    "WriteLine(money.ToString(\"C\"));\n",
    "\n",
    "WriteLine(string.Format(\"|{0,10:C}|\", money));\n",
    "WriteLine(\"|\" + money.ToString(\"C\").PadLeft(10)+\"|\");"
   ]
  },
  {
   "cell_type": "code",
   "execution_count": null,
   "metadata": {
    "dotnet_interactive": {
     "language": "csharp"
    },
    "vscode": {
     "languageId": "dotnet-interactive.csharp"
    }
   },
   "outputs": [
    {
     "name": "stdout",
     "output_type": "stream",
     "text": [
      "Hello World\r\n",
      "Hello World\r\n",
      "Hello Hello \r\n",
      "0 1 2 3 4 5 6 7 8 9 10 \r\n",
      "John, Jane, Mary\r\n"
     ]
    }
   ],
   "source": [
    "// String concatenation \n",
    "\n",
    "string s1 = \"Hello \";\n",
    "string s2 = \"World\";\n",
    "\n",
    "WriteLine(s1 + s2);\n",
    "\n",
    "WriteLine($\"{s1}{s2}\");\n",
    "\n",
    "WriteLine(string.Concat(s1, s1));\n",
    "\n",
    "StringBuilder sb = new StringBuilder();\n",
    "for (int i = 0; i <= 10; i++)\n",
    "{\n",
    "    sb.Append(i);\n",
    "    sb.Append(\" \");\n",
    "}\n",
    "WriteLine(sb.ToString());\n",
    "\n",
    "string[] names = { \"John\", \"Jane\", \"Mary\" };\n",
    "WriteLine(string.Join(\", \", names));"
   ]
  },
  {
   "cell_type": "code",
   "execution_count": null,
   "metadata": {
    "dotnet_interactive": {
     "language": "csharp"
    },
    "vscode": {
     "languageId": "dotnet-interactive.csharp"
    }
   },
   "outputs": [
    {
     "name": "stdout",
     "output_type": "stream",
     "text": [
      "Hello universe\r\n",
      "HeLLo worLd\r\n",
      "H world\r\n"
     ]
    }
   ],
   "source": [
    "string str = \"Hello world\";\n",
    "WriteLine(str.Replace(\"world\", \"universe\"));\n",
    "WriteLine(str.Replace(\"l\", \"L\"));\n",
    "WriteLine(str.Replace(\"ello\", String.Empty));"
   ]
  },
  {
   "cell_type": "code",
   "execution_count": null,
   "metadata": {
    "dotnet_interactive": {
     "language": "csharp"
    },
    "vscode": {
     "languageId": "dotnet-interactive.csharp"
    }
   },
   "outputs": [
    {
     "name": "stdout",
     "output_type": "stream",
     "text": [
      "True\r\n",
      "False\r\n",
      "-1\r\n",
      "6\r\n",
      "2\r\n",
      "9\r\n"
     ]
    }
   ],
   "source": [
    "string str = \"Hello world\";\n",
    "WriteLine(str.Contains(\"ell\"));\n",
    "WriteLine(str.Contains(\"foo\"));\n",
    "WriteLine(str.IndexOf(\"foo\"));\n",
    "WriteLine(str.IndexOf(\"world\"));\n",
    "WriteLine(str.IndexOf(\"l\"));\n",
    "WriteLine(str.LastIndexOf(\"l\"));"
   ]
  },
  {
   "cell_type": "code",
   "execution_count": null,
   "metadata": {
    "dotnet_interactive": {
     "language": "csharp"
    },
    "vscode": {
     "languageId": "dotnet-interactive.csharp"
    }
   },
   "outputs": [
    {
     "name": "stdout",
     "output_type": "stream",
     "text": [
      "Hello\r\n",
      "Hello    \r\n",
      "  Hello\r\n",
      "ell\r\n"
     ]
    }
   ],
   "source": [
    "string myString = \"  Hello    \";\n",
    "WriteLine(myString.Trim());\n",
    "WriteLine(myString.TrimStart());\n",
    "WriteLine(myString.TrimEnd());\n",
    "\n",
    "WriteLine(myString.Substring(3, 3));"
   ]
  },
  {
   "cell_type": "code",
   "execution_count": null,
   "metadata": {
    "dotnet_interactive": {
     "language": "csharp"
    },
    "vscode": {
     "languageId": "dotnet-interactive.csharp"
    }
   },
   "outputs": [
    {
     "name": "stdout",
     "output_type": "stream",
     "text": [
      "Number is |   42|\r\n",
      "Number is |42   |\r\n",
      "Number is |42.00|\r\n",
      "Number is |00042|\r\n",
      "Number is |$42.00|\r\n"
     ]
    }
   ],
   "source": [
    "var n = 42;\n",
    "WriteLine($\"Number is |{n,5}|\"); // $\"{number, padding}\"\n",
    "WriteLine($\"Number is |{n,-5}|\");\n",
    "WriteLine($\"Number is |{n,5:f2}|\");\n",
    "WriteLine($\"Number is |{n,5:D5}|\");\n",
    "WriteLine($\"Number is |{n,5:C}|\");\n"
   ]
  },
  {
   "cell_type": "code",
   "execution_count": null,
   "metadata": {
    "dotnet_interactive": {
     "language": "csharp"
    },
    "vscode": {
     "languageId": "dotnet-interactive.csharp"
    }
   },
   "outputs": [
    {
     "name": "stdout",
     "output_type": "stream",
     "text": [
      "1 + 2 = 3\r\n",
      "Hello WORLD\r\n"
     ]
    }
   ],
   "source": [
    "// Expression \n",
    "WriteLine($\"1 + 2 = {1+2}\");\n",
    "\n",
    "var w = \"world\";\n",
    "WriteLine($\"Hello {w.ToUpper()}\");"
   ]
  },
  {
   "cell_type": "code",
   "execution_count": null,
   "metadata": {
    "dotnet_interactive": {
     "language": "csharp"
    },
    "vscode": {
     "languageId": "dotnet-interactive.csharp"
    }
   },
   "outputs": [
    {
     "name": "stdout",
     "output_type": "stream",
     "text": [
      "File name: C:\\Temp\\file.txt\r\n",
      "File name: C:\\Temp\\file.txt\r\n"
     ]
    }
   ],
   "source": [
    "string fileName1 = \"C:\\\\Temp\\\\file.txt\";\n",
    "WriteLine($\"File name: {fileName1}\");\n",
    "\n",
    "string fileName2 = @\"C:\\Temp\\file.txt\";\n",
    "WriteLine($\"File name: {fileName2}\");\n"
   ]
  },
  {
   "cell_type": "code",
   "execution_count": null,
   "metadata": {
    "dotnet_interactive": {
     "language": "csharp"
    },
    "vscode": {
     "languageId": "dotnet-interactive.csharp"
    }
   },
   "outputs": [
    {
     "name": "stdout",
     "output_type": "stream",
     "text": [
      "\\u221A\r\n",
      "\\U0001F601\r\n",
      "\\u0022Hello World\\u0022\r\n",
      "\\x22Hello World\\x22\r\n"
     ]
    }
   ],
   "source": [
    "string sqrt = \"\\\\u221A\"; // √\n",
    "string emoji = \"\\\\U0001F601\"; // ?\n",
    "string text = \"\\\\u0022Hello World\\\\u0022\"; // \"Hello World\"\n",
    "string variableWidth = \"\\\\x22Hello World\\\\x22\"; // \"Hello World\"\n",
    "\n",
    "WriteLine(sqrt);\n",
    "WriteLine(emoji);\n",
    "WriteLine(text);\n",
    "WriteLine(variableWidth);"
   ]
  },
  {
   "cell_type": "code",
   "execution_count": null,
   "metadata": {
    "dotnet_interactive": {
     "language": "csharp"
    },
    "vscode": {
     "languageId": "dotnet-interactive.csharp"
    }
   },
   "outputs": [
    {
     "name": "stdout",
     "output_type": "stream",
     "text": [
      "'\r\n",
      "\\\r\n"
     ]
    }
   ],
   "source": [
    "char ch1 = '\\'';\n",
    "char ch2 = '\\\\';\n",
    "WriteLine(ch1);\n",
    "WriteLine(ch2);"
   ]
  },
  {
   "cell_type": "code",
   "execution_count": null,
   "metadata": {
    "dotnet_interactive": {
     "language": "csharp"
    },
    "vscode": {
     "languageId": "dotnet-interactive.csharp"
    }
   },
   "outputs": [],
   "source": [
    "// string str = \"Hello\\c\"; // Unrecognize escape sequence\n",
    "// char ch = '\\c'; // Unrecognize escape sequence"
   ]
  },
  {
   "cell_type": "code",
   "execution_count": null,
   "metadata": {
    "dotnet_interactive": {
     "language": "csharp"
    },
    "vscode": {
     "languageId": "dotnet-interactive.csharp"
    }
   },
   "outputs": [
    {
     "name": "stdout",
     "output_type": "stream",
     "text": [
      "smile text goes here\r\n",
      "Group wise ---\r\n",
      "smile text goes here\r\n",
      "again\r\n",
      "and again\r\n"
     ]
    }
   ],
   "source": [
    "using System.Text.RegularExpressions;\n",
    "\n",
    "string pattern = \":(.*?):\";\n",
    "string lookup = \"--:smile text goes here: understood?--\";\n",
    "string str = \"--:smile text goes here: understood?--:again:---:and again:---\";\n",
    "\n",
    "Regex regex = new Regex(pattern, RegexOptions.Singleline, TimeSpan.FromSeconds(1));\n",
    "Match match = regex.Match(lookup);\n",
    "\n",
    "string found  = match.Groups[1].Value;\n",
    "WriteLine(found);\n",
    "\n",
    "WriteLine(\"Group wise ---\");\n",
    "\n",
    "var items = new List<string>();\n",
    "foreach(Match match in regex.Matches(str))\n",
    "{\n",
    "    items.Add(match.Groups[1].Value);\n",
    "}\n",
    "\n",
    "foreach(var item in items)\n",
    "{\n",
    "    WriteLine(item);\n",
    "}"
   ]
  },
  {
   "cell_type": "code",
   "execution_count": null,
   "metadata": {
    "dotnet_interactive": {
     "language": "csharp"
    },
    "vscode": {
     "languageId": "dotnet-interactive.csharp"
    }
   },
   "outputs": [
    {
     "name": "stdout",
     "output_type": "stream",
     "text": [
      "d = 12/31/2022\r\n",
      "dd = 31\r\n",
      "ddd = Sat\r\n",
      "dddd = Saturday\r\n",
      "D = Saturday, December 31, 2022\r\n",
      "m = December 31\r\n",
      "M = December 31\r\n",
      "MM = 12\r\n",
      "MMM = Dec\r\n",
      "MMMM = December\r\n",
      "y = December 2022\r\n",
      "yy = 22\r\n",
      "yyy = 2022\r\n",
      "yyyy = 2022\r\n",
      "Y = December 2022\r\n"
     ]
    }
   ],
   "source": [
    "// DateTime methods\n",
    "DateTime dt = new DateTime(2022, 12, 31, 23, 59, 59);\n",
    "WriteLine(String.Format(\"d = {0:d}\", dt));\n",
    "WriteLine(String.Format(\"dd = {0:dd}\", dt));\n",
    "WriteLine(String.Format(\"ddd = {0:ddd}\", dt));\n",
    "WriteLine(String.Format(\"dddd = {0:dddd}\", dt));\n",
    "WriteLine(String.Format(\"D = {0:D}\", dt));\n",
    "WriteLine(String.Format(\"m = {0:m}\", dt));\n",
    "WriteLine(String.Format(\"M = {0:M}\", dt));\n",
    "WriteLine(String.Format(\"MM = {0:MM}\", dt));\n",
    "WriteLine(String.Format(\"MMM = {0:MMM}\", dt));\n",
    "WriteLine(String.Format(\"MMMM = {0:MMMM}\", dt));\n",
    "WriteLine(String.Format(\"y = {0:y}\", dt));\n",
    "WriteLine(String.Format(\"yy = {0:yy}\", dt));\n",
    "WriteLine(String.Format(\"yyy = {0:yyy}\", dt));\n",
    "WriteLine(String.Format(\"yyyy = {0:yyyy}\", dt));\n",
    "WriteLine(String.Format(\"Y = {0:Y}\", dt));"
   ]
  },
  {
   "cell_type": "code",
   "execution_count": null,
   "metadata": {
    "dotnet_interactive": {
     "language": "csharp"
    },
    "vscode": {
     "languageId": "dotnet-interactive.csharp"
    }
   },
   "outputs": [
    {
     "name": "stdout",
     "output_type": "stream",
     "text": [
      "22 22 2022 2022\r\n",
      "31 31 Sat Saturday\r\n",
      "12 12 Dec December\r\n",
      "35 35 35 35\r\n",
      "59 59 59 59\r\n",
      "P PM\r\n",
      "+6 +06\r\n"
     ]
    }
   ],
   "source": [
    "DateTime dt = new DateTime(2022, 12, 31, 23, 35, 59);\n",
    "\n",
    "WriteLine(String.Format(\"{0:y yy yyy yyyy}\", dt));\n",
    "WriteLine(String.Format(\"{0:d dd ddd dddd}\", dt));\n",
    "WriteLine(String.Format(\"{0:M MM MMM MMMM}\", dt));\n",
    "WriteLine(String.Format(\"{0:m mm mmm mmmm}\", dt));\n",
    "WriteLine(String.Format(\"{0:s ss sss ssss}\", dt));\n",
    "WriteLine(String.Format(\"{0:t tt}\", dt));\n",
    "WriteLine(String.Format(\"{0:z zz}\", dt));"
   ]
  },
  {
   "cell_type": "code",
   "execution_count": null,
   "metadata": {
    "dotnet_interactive": {
     "language": "csharp"
    },
    "vscode": {
     "languageId": "dotnet-interactive.csharp"
    }
   },
   "outputs": [
    {
     "name": "stdout",
     "output_type": "stream",
     "text": [
      "5 days added with todays date (14 May, 2022 02:08 PM) is = 19 May, 2022 02:08 PM\r\n"
     ]
    }
   ],
   "source": [
    "DateTime dt = DateTime.Now;\n",
    "WriteLine($\"5 days added with todays date ({dt.ToString(\"dd MMMM, yyyy hh:mm tt\")}) is = {dt.AddDays(5).ToString(\"dd MMMM, yyyy hh:mm tt\")}\");"
   ]
  },
  {
   "cell_type": "code",
   "execution_count": null,
   "metadata": {
    "dotnet_interactive": {
     "language": "csharp"
    },
    "vscode": {
     "languageId": "dotnet-interactive.csharp"
    }
   },
   "outputs": [
    {
     "name": "stdout",
     "output_type": "stream",
     "text": [
      "12/31/2022 2:46:00 PM\r\n",
      "Saturday, December 31, 2022 1:20 PM\r\n"
     ]
    }
   ],
   "source": [
    "string dts1 = \"14:46 2022-12-31\";\n",
    "DateTime dt1 = DateTime.Parse(dts1);\n",
    "WriteLine(dt1.ToString());\n",
    "\n",
    "\n",
    "string dts2 = \"2022/12/31 13:20:49\";\n",
    "DateTime dt2;\n",
    "bool isParsed = DateTime.TryParse(dts2, out dt2);\n",
    "WriteLine(isParsed ? dt2.ToString(\"f\") : \"Failed to parse\");"
   ]
  },
  {
   "cell_type": "code",
   "execution_count": null,
   "metadata": {
    "dotnet_interactive": {
     "language": "csharp"
    },
    "vscode": {
     "languageId": "dotnet-interactive.csharp"
    }
   },
   "outputs": [
    {
     "name": "stdout",
     "output_type": "stream",
     "text": [
      "1\r\n"
     ]
    }
   ],
   "source": [
    "DateTime dt1  = DateTime.Now;\n",
    "DateTime dt2 = dt1.AddDays(-5);\n",
    "\n",
    "int result = DateTime.Compare(dt1, dt2);\n",
    "WriteLine(result);"
   ]
  }
 ],
 "metadata": {
  "kernelspec": {
   "display_name": ".NET (C#)",
   "language": "C#",
   "name": ".net-csharp"
  },
  "language_info": {
   "name": "C#"
  }
 },
 "nbformat": 4,
 "nbformat_minor": 2
}
