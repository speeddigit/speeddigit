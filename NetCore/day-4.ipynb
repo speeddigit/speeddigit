{
 "cells": [
  {
   "cell_type": "code",
   "execution_count": null,
   "metadata": {
    "dotnet_interactive": {
     "language": "csharp"
    },
    "vscode": {
     "languageId": "dotnet-interactive.csharp"
    }
   },
   "outputs": [],
   "source": [
    "using static System.Console;\n",
    "void print<T> (T str) { Console.WriteLine(str);}"
   ]
  },
  {
   "cell_type": "code",
   "execution_count": null,
   "metadata": {
    "dotnet_interactive": {
     "language": "csharp"
    },
    "vscode": {
     "languageId": "dotnet-interactive.csharp"
    }
   },
   "outputs": [
    {
     "name": "stdout",
     "output_type": "stream",
     "text": [
      "Null value\r\n",
      "O2 value\r\n"
     ]
    }
   ],
   "source": [
    "// Null coalescing operator with null propagation operator\n",
    "object o1 = null;\n",
    "object o2 = \"O2 value\";\n",
    "print(o1?.ToString() ?? \"Null value\");\n",
    "print(o2?.ToString() ?? \"Null value\");"
   ]
  },
  {
   "cell_type": "code",
   "execution_count": null,
   "metadata": {
    "dotnet_interactive": {
     "language": "csharp"
    },
    "vscode": {
     "languageId": "dotnet-interactive.csharp"
    }
   },
   "outputs": [
    {
     "name": "stdout",
     "output_type": "stream",
     "text": [
      "Mr. Username\r\n",
      "Unknown\r\n"
     ]
    }
   ],
   "source": [
    "string GetName1() =>  \"Mr. Username\";\n",
    "string GetName2() =>  null;\n",
    "print(GetName1() ?? \"Unknown\");\n",
    "print(GetName2() ?? \"Unknown\");"
   ]
  },
  {
   "cell_type": "code",
   "execution_count": null,
   "metadata": {
    "dotnet_interactive": {
     "language": "csharp"
    },
    "vscode": {
     "languageId": "dotnet-interactive.csharp"
    }
   },
   "outputs": [],
   "source": [
    "class Product{}\n",
    "private List<Product> _products;\n",
    "private List<Product> Products = _products ?? (_products = new List<Product>());"
   ]
  },
  {
   "cell_type": "code",
   "execution_count": null,
   "metadata": {
    "dotnet_interactive": {
     "language": "csharp"
    },
    "vscode": {
     "languageId": "dotnet-interactive.csharp"
    }
   },
   "outputs": [],
   "source": [
    "// Null conditional index operator\n",
    "string[] collection;\n",
    "string item = collection?[0];"
   ]
  },
  {
   "cell_type": "code",
   "execution_count": null,
   "metadata": {
    "dotnet_interactive": {
     "language": "csharp"
    },
    "vscode": {
     "languageId": "dotnet-interactive.csharp"
    }
   },
   "outputs": [
    {
     "name": "stdout",
     "output_type": "stream",
     "text": [
      "Hello \\n 1 2 3 4\r\n"
     ]
    }
   ],
   "source": [
    "// Verbatim with interpolated strings\n",
    "string str = $@\"Hello \\n 1 2 3 {5 - 1}\";\n",
    "print(str);"
   ]
  },
  {
   "cell_type": "code",
   "execution_count": null,
   "metadata": {
    "dotnet_interactive": {
     "language": "csharp"
    },
    "vscode": {
     "languageId": "dotnet-interactive.csharp"
    }
   },
   "outputs": [
    {
     "name": "stdout",
     "output_type": "stream",
     "text": [
      "\"The quote\" goes here\r\n"
     ]
    }
   ],
   "source": [
    "// Escape double string\n",
    "string str = @\"\"\"The quote\"\" goes here\";\n",
    "print(str);"
   ]
  },
  {
   "cell_type": "code",
   "execution_count": null,
   "metadata": {
    "dotnet_interactive": {
     "language": "csharp"
    },
    "vscode": {
     "languageId": "dotnet-interactive.csharp"
    }
   },
   "outputs": [
    {
     "name": "stdout",
     "output_type": "stream",
     "text": [
      "Hello World, how ware you\r\n"
     ]
    }
   ],
   "source": [
    "print(string.Format(\"Hello {0}, how ware {1}\", \"World\", \"you\"));"
   ]
  },
  {
   "cell_type": "code",
   "execution_count": null,
   "metadata": {
    "dotnet_interactive": {
     "language": "csharp"
    },
    "vscode": {
     "languageId": "dotnet-interactive.csharp"
    }
   },
   "outputs": [
    {
     "name": "stdout",
     "output_type": "stream",
     "text": [
      "*************NetCore\r\n",
      "NetCore*************\r\n",
      "NetCore\r\n"
     ]
    }
   ],
   "source": [
    "// Padding \n",
    "string str = \"NetCore\";\n",
    "print(str.PadLeft(20, '*'));\n",
    "print(str.PadRight(20, '*'));\n",
    "print(str.PadRight(5, '*')); // No pad happens"
   ]
  },
  {
   "cell_type": "code",
   "execution_count": null,
   "metadata": {
    "dotnet_interactive": {
     "language": "csharp"
    },
    "vscode": {
     "languageId": "dotnet-interactive.csharp"
    }
   },
   "outputs": [
    {
     "name": "stdout",
     "output_type": "stream",
     "text": [
      "---------\r\n",
      "True\r\n",
      "True\r\n",
      "False\r\n",
      "False\r\n",
      "False\r\n",
      "---------\r\n",
      "True\r\n",
      "True\r\n",
      "True\r\n",
      "True\r\n",
      "False\r\n"
     ]
    }
   ],
   "source": [
    "string str1 = null;\n",
    "string str2 = \"\";\n",
    "string str3 = \"     \";\n",
    "string str4 = \"\\t\\t\";\n",
    "string str5 = \"abc 1 2 3\";\n",
    "print(\"---------\");\n",
    "print(string.IsNullOrEmpty(str1));\n",
    "print(string.IsNullOrEmpty(str2));\n",
    "print(string.IsNullOrEmpty(str3));\n",
    "print(string.IsNullOrEmpty(str4));\n",
    "print(string.IsNullOrEmpty(str5));\n",
    "print(\"---------\");\n",
    "print(string.IsNullOrWhiteSpace(str1));\n",
    "print(string.IsNullOrWhiteSpace(str2));\n",
    "print(string.IsNullOrWhiteSpace(str3));\n",
    "print(string.IsNullOrWhiteSpace(str4));\n",
    "print(string.IsNullOrWhiteSpace(str5));"
   ]
  },
  {
   "cell_type": "code",
   "execution_count": null,
   "metadata": {
    "dotnet_interactive": {
     "language": "csharp"
    },
    "vscode": {
     "languageId": "dotnet-interactive.csharp"
    }
   },
   "outputs": [
    {
     "name": "stdout",
     "output_type": "stream",
     "text": [
      "Hello World         \n",
      "Length = 20\r\n",
      "      Hello World\n",
      "Length = 17\r\n",
      "Hello World\n",
      "Length = 11\r\n"
     ]
    }
   ],
   "source": [
    "string str = \"      Hello World         \";\n",
    "print(str.TrimStart()+\"\\nLength = \"+str.TrimStart().Length);\n",
    "print(str.TrimEnd()+\"\\nLength = \"+str.TrimEnd().Length);\n",
    "print(str.Trim()+\"\\nLength = \"+str.Trim().Length);"
   ]
  },
  {
   "cell_type": "code",
   "execution_count": null,
   "metadata": {
    "dotnet_interactive": {
     "language": "csharp"
    },
    "vscode": {
     "languageId": "dotnet-interactive.csharp"
    }
   },
   "outputs": [
    {
     "name": "stdout",
     "output_type": "stream",
     "text": [
      "1111\r\n",
      "17\r\n",
      "f\r\n",
      "15\r\n"
     ]
    }
   ],
   "source": [
    "// Base conversion \n",
    "int number = 15;\n",
    "print(Convert.ToString(number, 2)); // Binary\n",
    "print(Convert.ToString(number, 8)); // Octal\n",
    "print(Convert.ToString(number, 16)); // HexaDecimal\n",
    "print(Convert.ToString(number, 10)); // Decimal, regular format"
   ]
  },
  {
   "cell_type": "code",
   "execution_count": null,
   "metadata": {
    "dotnet_interactive": {
     "language": "csharp"
    },
    "vscode": {
     "languageId": "dotnet-interactive.csharp"
    }
   },
   "outputs": [
    {
     "name": "stdout",
     "output_type": "stream",
     "text": [
      "a,b,c\r\n",
      "x|y|z\r\n",
      "Hello $ World\r\n"
     ]
    }
   ],
   "source": [
    "// String from array \n",
    "char[] chars = new char[] { 'a', 'b', 'c' };\n",
    "string str = string.Join(\",\", chars);\n",
    "\n",
    "print(str);\n",
    "\n",
    "List<char> charList = new List<char>() {'x', 'y', 'z'};\n",
    "string listString = string.Join(\"|\", charList);\n",
    "print(listString);\n",
    "\n",
    "string[] strArray = new string[] { \"Hello\", \"World\" };\n",
    "string str2 = string.Join(\" $ \", strArray);\n",
    "print(str2);"
   ]
  },
  {
   "cell_type": "code",
   "execution_count": null,
   "metadata": {
    "dotnet_interactive": {
     "language": "csharp"
    },
    "vscode": {
     "languageId": "dotnet-interactive.csharp"
    }
   },
   "outputs": [
    {
     "name": "stdout",
     "output_type": "stream",
     "text": [
      "00123\r\n",
      "123.55\r\n",
      "Input value is : 123.6\r\n",
      "123.6\r\n",
      "08 April, 2022 03:01:05\r\n",
      "08/04/2022 03:01:05\r\n"
     ]
    }
   ],
   "source": [
    "// Format string using ToString method\n",
    "int intNumber = 123;\n",
    "print(intNumber.ToString(\"00000\"));\n",
    "\n",
    "double d = 123.55321;\n",
    "print(d.ToString(\"0.00\"));\n",
    "print(d.ToString(\"Input value is : 0.0\"));\n",
    "print(d.ToString(\"0.0\"));\n",
    "\n",
    "DateTime dt = DateTime.Now;\n",
    "print(dt.ToString(\"dd MMMM, yyyy HH:mm:ss\"));\n",
    "print(dt.ToString(\"dd/MM/yyyy HH:mm:ss\"));"
   ]
  },
  {
   "cell_type": "code",
   "execution_count": null,
   "metadata": {
    "dotnet_interactive": {
     "language": "csharp"
    },
    "vscode": {
     "languageId": "dotnet-interactive.csharp"
    }
   },
   "outputs": [
    {
     "name": "stdout",
     "output_type": "stream",
     "text": [
      "Hello_world_how_are_you?_"
     ]
    }
   ],
   "source": [
    "string str =  \"Hello world how are you?\";\n",
    "string[] words = str.Split(new[] { \" \"}, StringSplitOptions.None);\n",
    "foreach (string word in words)\n",
    "{\n",
    "    Write(word + \"_\");\n",
    "}"
   ]
  },
  {
   "cell_type": "code",
   "execution_count": null,
   "metadata": {
    "dotnet_interactive": {
     "language": "csharp"
    },
    "vscode": {
     "languageId": "dotnet-interactive.csharp"
    }
   },
   "outputs": [
    {
     "name": "stdout",
     "output_type": "stream",
     "text": [
      "Hello _ world _ how _ are you?_\r\n",
      "4\r\n"
     ]
    }
   ],
   "source": [
    "string str = \"Hello --- world --- how --- are you?\";\n",
    "string[] words = str.Split(\"---\");\n",
    "foreach (string word in words)\n",
    "{\n",
    "    Write(word + \"_\");\n",
    "}\n",
    "WriteLine();\n",
    "print(words.Length);"
   ]
  },
  {
   "cell_type": "code",
   "execution_count": null,
   "metadata": {
    "dotnet_interactive": {
     "language": "csharp"
    },
    "vscode": {
     "languageId": "dotnet-interactive.csharp"
    }
   },
   "outputs": [
    {
     "name": "stdout",
     "output_type": "stream",
     "text": [
      "Hello\r\n",
      "world\r\n",
      "wo\r\n"
     ]
    }
   ],
   "source": [
    "// Substring\n",
    "string str = \"Hello world\";\n",
    "print(str.Substring(0, 5));\n",
    "print(str.Substring(6));\n",
    "print(str.Substring(6, 2));"
   ]
  },
  {
   "cell_type": "code",
   "execution_count": null,
   "metadata": {
    "dotnet_interactive": {
     "language": "csharp"
    },
    "vscode": {
     "languageId": "dotnet-interactive.csharp"
    }
   },
   "outputs": [
    {
     "name": "stdout",
     "output_type": "stream",
     "text": [
      "True\r\n",
      "False\r\n",
      "True\r\n",
      "False\r\n",
      "True\r\n",
      "False\r\n"
     ]
    }
   ],
   "source": [
    "// StartsWith, EndsWith and Contains\n",
    "string s = \"Hello world\";\n",
    "print(s.StartsWith(\"Hello\"));\n",
    "print(s.StartsWith(\"Foo\"));\n",
    "print(s.EndsWith(\"world\"));\n",
    "print(s.EndsWith(\"Bar\"));\n",
    "\n",
    "\n",
    "print(s.Contains(\"ello\"));\n",
    "print(s.Contains(\"bar\"));\n"
   ]
  }
 ],
 "metadata": {
  "kernelspec": {
   "display_name": ".NET (C#)",
   "language": "C#",
   "name": ".net-csharp"
  },
  "language_info": {
   "name": "C#"
  }
 },
 "nbformat": 4,
 "nbformat_minor": 2
}
