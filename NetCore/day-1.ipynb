{
 "cells": [
  {
   "cell_type": "code",
   "execution_count": null,
   "metadata": {
    "dotnet_interactive": {
     "language": "csharp"
    },
    "vscode": {
     "languageId": "dotnet-interactive.csharp"
    }
   },
   "outputs": [
    {
     "name": "stdout",
     "output_type": "stream",
     "text": [
      "Hello day 1\r\n"
     ]
    }
   ],
   "source": [
    "// C# For professional 1 - 50 page \n",
    "Console.WriteLine(\"Hello day 1\");\n",
    "void print<T> (T str) { Console.WriteLine(str);}"
   ]
  },
  {
   "cell_type": "code",
   "execution_count": null,
   "metadata": {
    "dotnet_interactive": {
     "language": "csharp"
    },
    "vscode": {
     "languageId": "dotnet-interactive.csharp"
    }
   },
   "outputs": [
    {
     "name": "stdout",
     "output_type": "stream",
     "text": [
      "Simple string\r\n",
      "Verbatim string: \n",
      "Goes up to second line \\n\r\n"
     ]
    }
   ],
   "source": [
    "string simple = \"Simple string\";\n",
    "string verbatim = @\"Verbatim string: \n",
    "Goes up to second line \\n\";\n",
    "\n",
    "print(simple);\n",
    "print(verbatim);"
   ]
  },
  {
   "cell_type": "code",
   "execution_count": null,
   "metadata": {
    "dotnet_interactive": {
     "language": "csharp"
    },
    "vscode": {
     "languageId": "dotnet-interactive.csharp"
    }
   },
   "outputs": [
    {
     "name": "stdout",
     "output_type": "stream",
     "text": [
      "True\r\n",
      "False\r\n",
      "True\r\n",
      "True\r\n"
     ]
    }
   ],
   "source": [
    "// Implicit cast and explicit type cast\n",
    "print(1 == 1.0); \n",
    "var x = new object();\n",
    "var y = new object();\n",
    "print(x == y ); // Compared with their references\n",
    "print(x == x ); // Compared with their references\n",
    "print(\"string\" == \"string\"); // Exception for string type object, it compared with value"
   ]
  },
  {
   "cell_type": "code",
   "execution_count": null,
   "metadata": {
    "dotnet_interactive": {
     "language": "csharp"
    },
    "vscode": {
     "languageId": "dotnet-interactive.csharp"
    }
   },
   "outputs": [
    {
     "name": "stdout",
     "output_type": "stream",
     "text": [
      "System.Object\r\n",
      "Yes it is john\r\n",
      "3\r\n",
      "3\r\n",
      "3.5\r\n",
      "Submission#6+Car\r\n",
      "Submission#6+SUV\r\n"
     ]
    }
   ],
   "source": [
    "var x = new Object();\n",
    "if(x != null) print(x);\n",
    "string name = \"John\";\n",
    "print(name == \"John\" ? \"Yes it is john\" : \"No its not john\");\n",
    "\n",
    "// print(true ? 3 : \"Not Three\"); // Does not compile\n",
    "print(true ? 3.ToString() : \"Not Three\"); // Compile\n",
    "\n",
    "print(true ? 3 : 3.5); // Compile\n",
    "print(true ? 3.5 : 3); // Compile\n",
    "\n",
    "public class Car{}\n",
    "public class SportsCar : Car {}\n",
    "public class SUV : Car {}\n",
    "\n",
    "print(true ? new Car() : new SportsCar()); // Compile\n",
    "print(true ? new SUV () : new Car()); // Compile\n",
    "// print(true ? new SUV() : new SportsCar()); // Does not Compile\n"
   ]
  }
 ],
 "metadata": {
  "kernelspec": {
   "display_name": ".NET (C#)",
   "language": "C#",
   "name": ".net-csharp"
  },
  "language_info": {
   "name": "C#"
  }
 },
 "nbformat": 4,
 "nbformat_minor": 2
}
