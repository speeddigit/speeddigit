{
 "cells": [
  {
   "cell_type": "code",
   "execution_count": null,
   "metadata": {
    "dotnet_interactive": {
     "language": "csharp"
    },
    "vscode": {
     "languageId": "dotnet-interactive.csharp"
    }
   },
   "outputs": [],
   "source": [
    "using static System.Console;\n",
    "using System.Globalization;"
   ]
  },
  {
   "cell_type": "code",
   "execution_count": null,
   "metadata": {
    "dotnet_interactive": {
     "language": "csharp"
    },
    "vscode": {
     "languageId": "dotnet-interactive.csharp"
    }
   },
   "outputs": [
    {
     "name": "stdout",
     "output_type": "stream",
     "text": [
      "31\r\n"
     ]
    }
   ],
   "source": [
    "int daysInJanuary_22 = DateTime.DaysInMonth(2022, 1);\n",
    "WriteLine(daysInJanuary_22);"
   ]
  },
  {
   "cell_type": "code",
   "execution_count": null,
   "metadata": {
    "dotnet_interactive": {
     "language": "csharp"
    },
    "vscode": {
     "languageId": "dotnet-interactive.csharp"
    }
   },
   "outputs": [
    {
     "name": "stdout",
     "output_type": "stream",
     "text": [
      "5/14/2022 4:57:27 PM\r\n",
      "5/14/2022 4:57:27 PM\r\n",
      "5/19/2022 4:57:27 PM\r\n"
     ]
    }
   ],
   "source": [
    "// DateTime functions are pure function so keep it mind when change date-time objects\n",
    "\n",
    "DateTime dt = DateTime.Now;\n",
    "WriteLine(dt);\n",
    "\n",
    "dt.AddDays(5); // No change to dt, effectless\n",
    "\n",
    "WriteLine(dt);\n",
    "\n",
    "// Proper way - \n",
    "\n",
    "dt = dt.AddDays(5);\n",
    "WriteLine(dt);"
   ]
  },
  {
   "cell_type": "code",
   "execution_count": null,
   "metadata": {
    "dotnet_interactive": {
     "language": "csharp"
    },
    "vscode": {
     "languageId": "dotnet-interactive.csharp"
    }
   },
   "outputs": [
    {
     "name": "stdout",
     "output_type": "stream",
     "text": [
      "31/12/2022 12:00:00 AM\r\n"
     ]
    }
   ],
   "source": [
    "string dateString;\n",
    "DateTime dateValue;\n",
    "CultureInfo enUs = new CultureInfo(\"en-US\");\n",
    "\n",
    "dateString = \"31/12/2022 12:00:00 AM\";\n",
    "\n",
    "if(DateTime.TryParseExact(dateString, \"dd/MM/yyyy hh:mm:ss tt\", enUs, DateTimeStyles.None, out dateValue))\n",
    "{\n",
    "    WriteLine($\"{dateValue:dd/MM/yyyy hh:mm:ss tt}\");\n",
    "}\n",
    "else\n",
    "{\n",
    "    WriteLine(\"Unable to parse date\");\n",
    "}"
   ]
  },
  {
   "cell_type": "code",
   "execution_count": null,
   "metadata": {
    "dotnet_interactive": {
     "language": "csharp"
    },
    "vscode": {
     "languageId": "dotnet-interactive.csharp"
    }
   },
   "outputs": [
    {
     "name": "stdout",
     "output_type": "stream",
     "text": [
      "Unable to parse date\r\n"
     ]
    }
   ],
   "source": [
    "string dateString;\n",
    "DateTime dateValue;\n",
    "CultureInfo enUs = new CultureInfo(\"en-US\");\n",
    "\n",
    "dateString = \"         31/12/2022 12:00:00 AM  \";\n",
    "\n",
    "// if(DateTime.TryParseExact(dateString, \"dd/MM/yyyy hh:mm:ss tt\", enUs, DateTimeStyles.AllowLeadingWhite, out dateValue))\n",
    "if(DateTime.TryParseExact(dateString, \"dd/MM/yyyy hh:mm:ss tt\", enUs, DateTimeStyles.AdjustToUniversal, out dateValue))\n",
    "{\n",
    "    WriteLine($\"{dateValue:dd/MM/yyyy hh:mm:ss tt}\");\n",
    "}\n",
    "else\n",
    "{\n",
    "    WriteLine(\"Unable to parse date\");\n",
    "}"
   ]
  },
  {
   "cell_type": "code",
   "execution_count": null,
   "metadata": {
    "dotnet_interactive": {
     "language": "csharp"
    },
    "vscode": {
     "languageId": "dotnet-interactive.csharp"
    }
   },
   "outputs": [
    {
     "name": "stdout",
     "output_type": "stream",
     "text": [
      "2022-05-14T16:57:28.1487224+06:00\r\n",
      "5/14/2022 10:07:48 PM\r\n"
     ]
    }
   ],
   "source": [
    "DateTime dt = DateTime.Now;\n",
    "WriteLine(dt.ToString(\"o\"));\n",
    "\n",
    "var dt2 = dt.Add(new TimeSpan(5, 10, 20));\n",
    "WriteLine(dt2);"
   ]
  },
  {
   "cell_type": "code",
   "execution_count": null,
   "metadata": {
    "dotnet_interactive": {
     "language": "csharp"
    },
    "vscode": {
     "languageId": "dotnet-interactive.csharp"
    }
   },
   "outputs": [
    {
     "name": "stdout",
     "output_type": "stream",
     "text": [
      "14/05/2022, 15/05/2022, 16/05/2022, "
     ]
    }
   ],
   "source": [
    "var start = DateTime.Now;\n",
    "var end = start.AddDays(3);\n",
    "\n",
    "for(var i = start; i < end; i = i.AddDays(1))\n",
    "{\n",
    "    Write(i.ToString(\"dd/MM/yyyy\") + \", \");\n",
    "}"
   ]
  },
  {
   "cell_type": "code",
   "execution_count": null,
   "metadata": {
    "dotnet_interactive": {
     "language": "csharp"
    },
    "vscode": {
     "languageId": "dotnet-interactive.csharp"
    }
   },
   "outputs": [
    {
     "name": "stdout",
     "output_type": "stream",
     "text": [
      "5/14/2022 4:57:28 PM\r\n",
      "5/14/2022\r\n",
      "Saturday, May 14, 2022\r\n",
      "5/14/2022 4:57 PM\r\n"
     ]
    }
   ],
   "source": [
    "DateTime dt = DateTime.Now;\n",
    "WriteLine(dt.ToString());\n",
    "WriteLine(dt.ToShortDateString());\n",
    "WriteLine(dt.ToLongDateString());\n",
    "WriteLine(dt.ToString(\"g\"));\n"
   ]
  },
  {
   "cell_type": "code",
   "execution_count": null,
   "metadata": {
    "dotnet_interactive": {
     "language": "csharp"
    },
    "vscode": {
     "languageId": "dotnet-interactive.csharp"
    }
   },
   "outputs": [
    {
     "name": "stdout",
     "output_type": "stream",
     "text": [
      "5/14/2022 12:00:00 AM\r\n",
      "5/14/2022\r\n"
     ]
    }
   ],
   "source": [
    "WriteLine(DateTime.Today);\n",
    "WriteLine(DateTime.Today.ToShortDateString());"
   ]
  },
  {
   "cell_type": "code",
   "execution_count": null,
   "metadata": {
    "dotnet_interactive": {
     "language": "csharp"
    },
    "vscode": {
     "languageId": "dotnet-interactive.csharp"
    }
   },
   "outputs": [],
   "source": []
  }
 ],
 "metadata": {
  "kernelspec": {
   "display_name": ".NET (C#)",
   "language": "C#",
   "name": ".net-csharp"
  },
  "language_info": {
   "name": "C#"
  }
 },
 "nbformat": 4,
 "nbformat_minor": 2
}
