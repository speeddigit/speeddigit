{
 "cells": [
  {
   "cell_type": "code",
   "execution_count": null,
   "metadata": {
    "dotnet_interactive": {
     "language": "csharp"
    },
    "vscode": {
     "languageId": "dotnet-interactive.csharp"
    }
   },
   "outputs": [],
   "source": [
    "using static System.Console;\n",
    "void print<T> (T str) { Console.WriteLine(str);}"
   ]
  },
  {
   "cell_type": "code",
   "execution_count": null,
   "metadata": {
    "dotnet_interactive": {
     "language": "csharp"
    },
    "vscode": {
     "languageId": "dotnet-interactive.csharp"
    }
   },
   "outputs": [
    {
     "name": "stdout",
     "output_type": "stream",
     "text": [
      "H\r\n",
      "Hello World"
     ]
    }
   ],
   "source": [
    "string str = \"Hello World\";\n",
    "WriteLine(str[0]);\n",
    "foreach(char s_char in str)\n",
    "    Write(s_char);"
   ]
  },
  {
   "cell_type": "code",
   "execution_count": null,
   "metadata": {
    "dotnet_interactive": {
     "language": "csharp"
    },
    "vscode": {
     "languageId": "dotnet-interactive.csharp"
    }
   },
   "outputs": [
    {
     "name": "stdout",
     "output_type": "stream",
     "text": [
      "hello world\r\n",
      "HELLO WORLD\r\n"
     ]
    }
   ],
   "source": [
    "string str = \"Hello World\";\n",
    "WriteLine(str.ToLowerInvariant());\n",
    "WriteLine(str.ToUpperInvariant());"
   ]
  },
  {
   "cell_type": "code",
   "execution_count": null,
   "metadata": {
    "dotnet_interactive": {
     "language": "csharp"
    },
    "vscode": {
     "languageId": "dotnet-interactive.csharp"
    }
   },
   "outputs": [
    {
     "name": "stdout",
     "output_type": "stream",
     "text": [
      "dlroW olleH\r\n"
     ]
    }
   ],
   "source": [
    "public class CusotomFormat : IFormatProvider, ICustomFormatter\n",
    "{\n",
    "    public string Format(string format, object arg, IFormatProvider formatProvider)\n",
    "    {\n",
    "        if(!this.Equals(formatProvider))\n",
    "            return null;\n",
    "        if(format == \"Reverse\")\n",
    "            return string.Join(\"\", arg.ToString().Reverse());\n",
    "        return arg.ToString();\n",
    "    }\n",
    "\n",
    "    public object GetFormat(Type formatType)\n",
    "    {\n",
    "        if(formatType == typeof(ICustomFormatter))\n",
    "            return this;\n",
    "        return null;\n",
    "    }\n",
    "}\n",
    "\n",
    "string output = String.Format(new CusotomFormat(), \"{0:Reverse}\", \"Hello World\");\n",
    "WriteLine(output);"
   ]
  },
  {
   "cell_type": "code",
   "execution_count": null,
   "metadata": {
    "dotnet_interactive": {
     "language": "csharp"
    },
    "vscode": {
     "languageId": "dotnet-interactive.csharp"
    }
   },
   "outputs": [
    {
     "name": "stdout",
     "output_type": "stream",
     "text": [
      "06\r\n",
      "Лхагва\r\n",
      "Wed\r\n",
      "Saturday, April 9, 2022 1:36 AM\r\n",
      "April 2022\r\n",
      "01\r\n",
      "01\r\n",
      "April 9\r\n",
      "36\r\n",
      "17\r\n",
      "Sat, 09 Apr 2022 01:36:17 GMT\r\n",
      "Saturday, April 9, 2022 1:36:17 AM\r\n",
      "Friday, April 8, 2022 7:36:17 PM\r\n"
     ]
    }
   ],
   "source": [
    "DateTime date = new DateTime(2016, 07, 06, 18, 30, 14);\n",
    "Console.WriteLine(String.Format(\"{0:dd}\",date));\n",
    "var res = String.Format(new System.Globalization.CultureInfo(\"mn-MN\"),\"{0:dddd}\",date);\n",
    "WriteLine(res);\n",
    "\n",
    "Console.WriteLine($\"{date:ddd}\");\n",
    "\n",
    "DateTime now = DateTime.Now;\n",
    "WriteLine(now.ToString(\"f\"));\n",
    "WriteLine(now.ToString(\"Y\"));\n",
    "WriteLine(now.ToString(\"hh\"));\n",
    "WriteLine(now.ToString(\"HH\"));\n",
    "WriteLine(now.ToString(\"m\"));\n",
    "WriteLine(now.ToString(\"mm\"));\n",
    "WriteLine(now.ToString(\"ss\"));\n",
    "WriteLine(now.ToString(\"r\"));\n",
    "WriteLine(now.ToString(\"F\"));\n",
    "WriteLine(now.ToString(\"U\"));"
   ]
  },
  {
   "cell_type": "code",
   "execution_count": null,
   "metadata": {
    "dotnet_interactive": {
     "language": "csharp"
    },
    "vscode": {
     "languageId": "dotnet-interactive.csharp"
    }
   },
   "outputs": [
    {
     "name": "stdout",
     "output_type": "stream",
     "text": [
      "$123.5\r\n",
      "$123.46\r\n",
      "$123.457\r\n",
      "$123.4568\r\n",
      "$123.5\r\n",
      "123,46 €\r\n",
      "₹123.457\r\n",
      "123.46৳\r\n"
     ]
    }
   ],
   "source": [
    "using System.Globalization;\n",
    "\n",
    "WriteLine(\"{0:c1}\", 123.456789);\n",
    "WriteLine(\"{0:c2}\", 123.456789);\n",
    "WriteLine(\"{0:c3}\", 123.456789);\n",
    "WriteLine(\"{0:c4}\", 123.456789);\n",
    "\n",
    "WriteLine(String.Format(new CultureInfo(\"en-US\"), \"{0:c1}\", 123.456789));\n",
    "WriteLine(String.Format(new CultureInfo(\"de-DE\"), \"{0:c2}\", 123.456789));\n",
    "WriteLine(String.Format(new CultureInfo(\"hi-IN\"), \"{0:c3}\", 123.456789));\n",
    "WriteLine(String.Format(new CultureInfo(\"bn-BD\"), \"{0:c2}\", 123.456789));\n",
    "\n"
   ]
  },
  {
   "cell_type": "code",
   "execution_count": null,
   "metadata": {
    "dotnet_interactive": {
     "language": "csharp"
    },
    "vscode": {
     "languageId": "dotnet-interactive.csharp"
    }
   },
   "outputs": [
    {
     "name": "stdout",
     "output_type": "stream",
     "text": [
      "✔123.5\r\n"
     ]
    }
   ],
   "source": [
    "NumberFormatInfo nfi = new CultureInfo(\"en-US\", false).NumberFormat;\n",
    "nfi = (NumberFormatInfo)nfi.Clone();\n",
    "nfi.CurrencySymbol = \"✔\"; // Cusotom symbol\n",
    "WriteLine(String.Format(nfi, \"{0:c1}\", 123.456789));"
   ]
  }
 ],
 "metadata": {
  "kernelspec": {
   "display_name": ".NET (C#)",
   "language": "C#",
   "name": ".net-csharp"
  },
  "language_info": {
   "name": "C#"
  }
 },
 "nbformat": 4,
 "nbformat_minor": 2
}
